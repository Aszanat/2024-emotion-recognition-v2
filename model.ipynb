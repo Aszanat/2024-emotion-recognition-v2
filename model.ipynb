{
  "cells": [
    {
      "cell_type": "code",
      "execution_count": 8,
      "metadata": {
        "id": "2NQLAQIJ3ZFT"
      },
      "outputs": [],
      "source": [
        "class Opinion:\n",
        "    def __init__(self, text):\n",
        "        self.sentences = []\n",
        "        self.sentences = text.split('\\n')"
      ]
    },
    {
      "cell_type": "markdown",
      "metadata": {
        "id": "8PrCQJWs3ZFY"
      },
      "source": [
        "The code above is a representation of an opinion. I don't know exactly how it will be useful later, but God, I hope I'm not doing it in vain."
      ]
    },
    {
      "cell_type": "code",
      "execution_count": 17,
      "metadata": {
        "id": "hJiNMJCX3ZFb"
      },
      "outputs": [],
      "source": [
        "def divide_opinions(fulltext):\n",
        "    if (fulltext.find('text') == -1):\n",
        "        raise Exception('No entry symbol \\'text\\' found.')\n",
        "    text = fulltext[5:]\n",
        "    opinionlist = text.split('###########################\\n')\n",
        "    opinions = []\n",
        "    for o in opinionlist:\n",
        "      if (o.strip() != ''):\n",
        "        opinions.append(Opinion(o))\n",
        "    return opinions\n"
      ]
    },
    {
      "cell_type": "code",
      "execution_count": 18,
      "metadata": {
        "colab": {
          "base_uri": "https://localhost:8080/"
        },
        "id": "GNZ9MQ8j4Vr3",
        "outputId": "4e74689d-99ad-4f6e-de0f-2d99f6be9501"
      },
      "outputs": [
        {
          "name": "stdout",
          "output_type": "stream",
          "text": [
            "['Miałem kosza z panem Gryszko i Szukszto jednak ten był najlepszy.', 'Niektórym się nie podoba że nazywa studentów z małym dorobkiem punktowym (prowadzi statystyki wygranych meczów) planktonem punktowym, że potrafi nazwać kogoś idiotą, ale dzięki temu jest jako taka dyscyplina na zajęciach.', 'Jeśli chodzi o zajęcia to wiadomo że do póki nie przyjdzie prowadzący to każdy sie rozgrzewa z piłkami (jak u każdego) co jakiś czas robi małą rozgrzewke i konkursy (wyścigi rzędów, konkursy zucania z dwutaktu lewą ręką), a potam gra, 3 lub 4 zespoły, system wybierają studenci ale najcześciej jest tak że gra się do 10 mecz i rewanż czyli każdy gra te 4 mecze, czasami jest streetball i potem gra na całe boisko.', 'System punktowy polega na tym że pierwsza 6 dostaje bdb i nie musi iść na ostatnie zajęcia, reszta też bdb, no chyba że ktoś opuszczał .', 'Na przedostatnich zajeciach robi test &quot;sprawnościowy&quot;, (choręgiewki, rzuty z pod kosza).', 'Dla mnie ten w-f mimo wszystko był najlepszy bo naprawdę można se było pograć a &quot;zachowanie&quot; prowadzącego wogóle nie przeszkadza,', '']\n"
          ]
        }
      ],
      "source": [
        "f = open('/in.tsv', 'r')\n",
        "opinions = divide_opinions(f.read())\n",
        "print(opinions[len(opinions) - 1].sentences)"
      ]
    }
  ],
  "metadata": {
    "colab": {
      "provenance": []
    },
    "kernelspec": {
      "display_name": "Python 3",
      "name": "python3"
    },
    "language_info": {
      "name": "python"
    }
  },
  "nbformat": 4,
  "nbformat_minor": 0
}
