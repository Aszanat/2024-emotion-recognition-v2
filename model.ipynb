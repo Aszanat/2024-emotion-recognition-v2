{
  "cells": [
    {
      "cell_type": "code",
      "source": [
        "from google.colab import drive\n",
        "drive.mount('/content/drive')"
      ],
      "metadata": {
        "colab": {
          "base_uri": "https://localhost:8080/"
        },
        "id": "az2uv32VdqpV",
        "outputId": "9eb3f2ac-0765-41ca-bfd9-ccc51ec7fe03"
      },
      "execution_count": 22,
      "outputs": [
        {
          "output_type": "stream",
          "name": "stdout",
          "text": [
            "Drive already mounted at /content/drive; to attempt to forcibly remount, call drive.mount(\"/content/drive\", force_remount=True).\n"
          ]
        }
      ]
    },
    {
      "cell_type": "code",
      "execution_count": 23,
      "metadata": {
        "id": "2NQLAQIJ3ZFT"
      },
      "outputs": [],
      "source": [
        "class Opinion:\n",
        "    def __init__(self, text):\n",
        "      self.sentences = []\n",
        "      self.sentences = text.split('\\n')\n",
        "      self.labels = []\n",
        "    def __init__(self, text, labels):\n",
        "      self.sentences = []\n",
        "      self.sentences = text.split('\\n')\n",
        "      self.labels = []\n",
        "      i = 0\n",
        "      for s in self.sentences:\n",
        "        text_vector = labels[i].split('\\t')\n",
        "        vector = []\n",
        "        for boolean in text_vector:\n",
        "          if (boolean == 'True'):\n",
        "            vector.append(True)\n",
        "          elif (boolean == 'False'):\n",
        "            vector.append(False)\n",
        "          else:\n",
        "            raise Exception(\"Unexpected value of emotion presence\")\n",
        "        self.labels.append(vector)\n",
        "        i = i + 1"
      ]
    },
    {
      "cell_type": "markdown",
      "metadata": {
        "id": "8PrCQJWs3ZFY"
      },
      "source": [
        "The code above is a representation of an opinion. I don't know exactly how it will be useful later, but God, I hope I'm not doing it in vain. Labels will be storing vectors of size 11 with Trues and Falses for each emotion."
      ]
    },
    {
      "cell_type": "code",
      "execution_count": 24,
      "metadata": {
        "id": "hJiNMJCX3ZFb"
      },
      "outputs": [],
      "source": [
        "def divide_opinions(fulltext, labels):\n",
        "    in_header = open('/content/drive/MyDrive/POLEVAL/in-header.tsv', 'r')\n",
        "    inh = in_header.read()\n",
        "    out_header = open('/content/drive/MyDrive/POLEVAL/out-header.tsv', 'r')\n",
        "    outh = out_header.read()\n",
        "    text = fulltext[len(inh):]\n",
        "    opinionlist = text.split('###########################\\n')\n",
        "    opinions = []\n",
        "    if (fulltext.find(inh) == -1):\n",
        "        raise Exception('No entry symbol \\'text\\' found.')\n",
        "    if (labels.find(outh) ==-1):\n",
        "        # no labels found, it's not a training set\n",
        "        for o in opinionlist:\n",
        "          if (o.strip() != ''):\n",
        "            opinions.append(Opinion(o))\n",
        "    else:\n",
        "        i = 0\n",
        "        pure_labels = labels[len(outh):]\n",
        "        labellist = pure_labels.split('\\n')\n",
        "        for o in opinionlist:\n",
        "          if (o.strip() != ''):\n",
        "            newo = Opinion(o, labellist[i:])\n",
        "            opinions.append(newo)\n",
        "            i = i + len(newo.sentences)\n",
        "    return opinions\n"
      ]
    },
    {
      "cell_type": "code",
      "source": [
        "fin = open('/content/drive/MyDrive/POLEVAL/train/in.tsv', 'r')\n",
        "fout = open('/content/drive/MyDrive/POLEVAL/train/expected.tsv', 'r')\n",
        "opinions = divide_opinions(fin.read(), fout.read())\n",
        "print(opinions[len(opinions) - 1].sentences)\n",
        "print(opinions[len(opinions) - 1].labels)"
      ],
      "metadata": {
        "colab": {
          "base_uri": "https://localhost:8080/"
        },
        "id": "GNZ9MQ8j4Vr3",
        "outputId": "1dfb8242-0cc9-4613-9fee-db446bbc39f1"
      },
      "execution_count": 25,
      "outputs": [
        {
          "output_type": "stream",
          "name": "stdout",
          "text": [
            "['Miałem kosza z panem Gryszko i Szukszto jednak ten był najlepszy.', 'Niektórym się nie podoba że nazywa studentów z małym dorobkiem punktowym (prowadzi statystyki wygranych meczów) planktonem punktowym, że potrafi nazwać kogoś idiotą, ale dzięki temu jest jako taka dyscyplina na zajęciach.', 'Jeśli chodzi o zajęcia to wiadomo że do póki nie przyjdzie prowadzący to każdy sie rozgrzewa z piłkami (jak u każdego) co jakiś czas robi małą rozgrzewke i konkursy (wyścigi rzędów, konkursy zucania z dwutaktu lewą ręką), a potam gra, 3 lub 4 zespoły, system wybierają studenci ale najcześciej jest tak że gra się do 10 mecz i rewanż czyli każdy gra te 4 mecze, czasami jest streetball i potem gra na całe boisko.', 'System punktowy polega na tym że pierwsza 6 dostaje bdb i nie musi iść na ostatnie zajęcia, reszta też bdb, no chyba że ktoś opuszczał .', 'Na przedostatnich zajeciach robi test &quot;sprawnościowy&quot;, (choręgiewki, rzuty z pod kosza).', 'Dla mnie ten w-f mimo wszystko był najlepszy bo naprawdę można se było pograć a &quot;zachowanie&quot; prowadzącego wogóle nie przeszkadza,', '']\n",
            "[[True, True, False, False, False, False, False, False, True, False, False], [True, False, False, False, False, True, False, False, True, True, False], [True, False, False, False, False, False, False, False, True, False, True], [True, False, False, False, False, False, False, False, True, False, True], [False, False, False, False, False, False, False, False, False, False, True], [True, False, False, False, False, False, False, False, True, False, False], [True, True, False, False, False, False, False, False, True, False, False]]\n"
          ]
        }
      ]
    }
  ],
  "metadata": {
    "language_info": {
      "name": "python"
    },
    "colab": {
      "provenance": []
    },
    "kernelspec": {
      "name": "python3",
      "display_name": "Python 3"
    }
  },
  "nbformat": 4,
  "nbformat_minor": 0
}